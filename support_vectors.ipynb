{
 "cells": [
  {
   "cell_type": "code",
   "execution_count": 2,
   "metadata": {},
   "outputs": [],
   "source": [
    "# Import all the necessary libraries for support vector\n",
    "\n",
    "import numpy as np\n",
    "import matplotlib.pyplot as plt\n",
    "from sklearn.svm import SVC\n",
    "from sklearn.model_selection import train_test_split"
   ]
  },
  {
   "cell_type": "code",
   "execution_count": 3,
   "metadata": {},
   "outputs": [
    {
     "name": "stdout",
     "output_type": "stream",
     "text": [
      "(50000, 5)\n",
      "0.195132062642601\n",
      "Number of entangled states: 25624\n",
      "\n",
      "Number of separable states: 24376\n",
      "\n"
     ]
    }
   ],
   "source": [
    "# datafiles = ['../project/dataset1.csv', '../project/dataset2.csv', '../project/dataset3.csv', '../project/dataset4.csv', '../project/dataset5.csv']\n",
    "datafiles = ['../project/dataset1.csv']\n",
    "n_samples = 50000           # Number of samples\n",
    "n_dataset = len(datafiles)  # Number of datasets\n",
    "train = 0.9   # 245000 (77.777...%)\n",
    "test = 0.1    # 35000 (10%)\n",
    "\n",
    "# Split all datasets\n",
    "datasets = np.empty((int(n_samples*n_dataset),5))\n",
    "print(datasets.shape)\n",
    "for i,datafile in enumerate(datafiles):\n",
    "  dataset = np.loadtxt(datafile, delimiter=',')\n",
    "  datasets[int(i*n_samples):int(n_samples*(i+1)),:] = dataset\n",
    "print(datasets[0,0])\n",
    "# Split into input and output\n",
    "Cr = datasets[:,0:4]   # Input: relative entropy of coherence\n",
    "ES = np.array([float(y) for y in datasets[:,4]])  # Output: entangled/separable\n",
    "\n",
    "# Count number of entangled and separable states\n",
    "n_entangled = len([es for es in ES if es == 1])\n",
    "print(f'Number of entangled states: {n_entangled}\\n')\n",
    "print(f'Number of separable states: {n_samples*n_dataset-n_entangled}\\n')\n",
    "# Split into train-and-validation and test\n",
    "#break datasets into train and test\n",
    "\n",
    "Cr_train, Cr_test, ES_train, ES_test = train_test_split(Cr, ES, test_size=test,\n",
    "                                                      random_state=42)"
   ]
  },
  {
   "cell_type": "code",
   "execution_count": 3,
   "metadata": {},
   "outputs": [
    {
     "name": "stdout",
     "output_type": "stream",
     "text": [
      "Fitting 5 folds for each of 25 candidates, totalling 125 fits\n",
      "[CV 1/5] END .....C=0.1, gamma=1, kernel=linear;, score=0.968 total time=   3.6s\n",
      "[CV 2/5] END .....C=0.1, gamma=1, kernel=linear;, score=0.970 total time=   3.6s\n",
      "[CV 3/5] END .....C=0.1, gamma=1, kernel=linear;, score=0.972 total time=   3.7s\n",
      "[CV 4/5] END .....C=0.1, gamma=1, kernel=linear;, score=0.974 total time=   3.8s\n",
      "[CV 5/5] END .....C=0.1, gamma=1, kernel=linear;, score=0.972 total time=   3.8s\n",
      "[CV 1/5] END ...C=0.1, gamma=0.1, kernel=linear;, score=0.968 total time=   3.8s\n",
      "[CV 2/5] END ...C=0.1, gamma=0.1, kernel=linear;, score=0.970 total time=   3.8s\n",
      "[CV 3/5] END ...C=0.1, gamma=0.1, kernel=linear;, score=0.972 total time=   3.9s\n",
      "[CV 4/5] END ...C=0.1, gamma=0.1, kernel=linear;, score=0.974 total time=   3.9s\n",
      "[CV 5/5] END ...C=0.1, gamma=0.1, kernel=linear;, score=0.972 total time=   4.2s\n",
      "[CV 1/5] END ..C=0.1, gamma=0.01, kernel=linear;, score=0.968 total time=   4.2s\n",
      "[CV 2/5] END ..C=0.1, gamma=0.01, kernel=linear;, score=0.970 total time=   4.2s\n",
      "[CV 3/5] END ..C=0.1, gamma=0.01, kernel=linear;, score=0.972 total time=   4.2s\n",
      "[CV 4/5] END ..C=0.1, gamma=0.01, kernel=linear;, score=0.974 total time=   4.3s\n",
      "[CV 5/5] END ..C=0.1, gamma=0.01, kernel=linear;, score=0.972 total time=   4.2s\n",
      "[CV 1/5] END .C=0.1, gamma=0.001, kernel=linear;, score=0.968 total time=   4.1s\n",
      "[CV 2/5] END .C=0.1, gamma=0.001, kernel=linear;, score=0.970 total time=   4.2s\n",
      "[CV 3/5] END .C=0.1, gamma=0.001, kernel=linear;, score=0.972 total time=   4.2s\n",
      "[CV 4/5] END .C=0.1, gamma=0.001, kernel=linear;, score=0.974 total time=   4.1s\n",
      "[CV 5/5] END .C=0.1, gamma=0.001, kernel=linear;, score=0.972 total time=   4.1s\n",
      "[CV 1/5] END C=0.1, gamma=0.0001, kernel=linear;, score=0.968 total time=   4.0s\n",
      "[CV 2/5] END C=0.1, gamma=0.0001, kernel=linear;, score=0.970 total time=   4.1s\n",
      "[CV 3/5] END C=0.1, gamma=0.0001, kernel=linear;, score=0.972 total time=   4.1s\n",
      "[CV 4/5] END C=0.1, gamma=0.0001, kernel=linear;, score=0.974 total time=   4.2s\n",
      "[CV 5/5] END C=0.1, gamma=0.0001, kernel=linear;, score=0.972 total time=   4.2s\n",
      "[CV 1/5] END .......C=1, gamma=1, kernel=linear;, score=0.980 total time=   2.4s\n",
      "[CV 2/5] END .......C=1, gamma=1, kernel=linear;, score=0.981 total time=   2.4s\n",
      "[CV 3/5] END .......C=1, gamma=1, kernel=linear;, score=0.983 total time=   2.5s\n",
      "[CV 4/5] END .......C=1, gamma=1, kernel=linear;, score=0.982 total time=   2.5s\n",
      "[CV 5/5] END .......C=1, gamma=1, kernel=linear;, score=0.983 total time=   2.5s\n",
      "[CV 1/5] END .....C=1, gamma=0.1, kernel=linear;, score=0.980 total time=   2.4s\n",
      "[CV 2/5] END .....C=1, gamma=0.1, kernel=linear;, score=0.981 total time=   2.5s\n",
      "[CV 3/5] END .....C=1, gamma=0.1, kernel=linear;, score=0.983 total time=   2.5s\n",
      "[CV 4/5] END .....C=1, gamma=0.1, kernel=linear;, score=0.982 total time=   2.5s\n",
      "[CV 5/5] END .....C=1, gamma=0.1, kernel=linear;, score=0.983 total time=   2.5s\n",
      "[CV 1/5] END ....C=1, gamma=0.01, kernel=linear;, score=0.980 total time=   2.4s\n",
      "[CV 2/5] END ....C=1, gamma=0.01, kernel=linear;, score=0.981 total time=   2.5s\n",
      "[CV 3/5] END ....C=1, gamma=0.01, kernel=linear;, score=0.983 total time=   2.5s\n",
      "[CV 4/5] END ....C=1, gamma=0.01, kernel=linear;, score=0.982 total time=   2.5s\n",
      "[CV 5/5] END ....C=1, gamma=0.01, kernel=linear;, score=0.983 total time=   2.4s\n",
      "[CV 1/5] END ...C=1, gamma=0.001, kernel=linear;, score=0.980 total time=   2.4s\n",
      "[CV 2/5] END ...C=1, gamma=0.001, kernel=linear;, score=0.981 total time=   2.5s\n",
      "[CV 3/5] END ...C=1, gamma=0.001, kernel=linear;, score=0.983 total time=   2.5s\n",
      "[CV 4/5] END ...C=1, gamma=0.001, kernel=linear;, score=0.982 total time=   2.7s\n",
      "[CV 5/5] END ...C=1, gamma=0.001, kernel=linear;, score=0.983 total time=   2.5s\n",
      "[CV 1/5] END ..C=1, gamma=0.0001, kernel=linear;, score=0.980 total time=   2.4s\n",
      "[CV 2/5] END ..C=1, gamma=0.0001, kernel=linear;, score=0.981 total time=   2.5s\n",
      "[CV 3/5] END ..C=1, gamma=0.0001, kernel=linear;, score=0.983 total time=   2.5s\n",
      "[CV 4/5] END ..C=1, gamma=0.0001, kernel=linear;, score=0.982 total time=   2.5s\n",
      "[CV 5/5] END ..C=1, gamma=0.0001, kernel=linear;, score=0.983 total time=   2.7s\n",
      "[CV 1/5] END ......C=10, gamma=1, kernel=linear;, score=0.981 total time=   1.5s\n",
      "[CV 2/5] END ......C=10, gamma=1, kernel=linear;, score=0.983 total time=   1.6s\n",
      "[CV 3/5] END ......C=10, gamma=1, kernel=linear;, score=0.984 total time=   1.6s\n",
      "[CV 4/5] END ......C=10, gamma=1, kernel=linear;, score=0.983 total time=   1.6s\n",
      "[CV 5/5] END ......C=10, gamma=1, kernel=linear;, score=0.984 total time=   1.6s\n",
      "[CV 1/5] END ....C=10, gamma=0.1, kernel=linear;, score=0.981 total time=   1.5s\n",
      "[CV 2/5] END ....C=10, gamma=0.1, kernel=linear;, score=0.983 total time=   1.6s\n",
      "[CV 3/5] END ....C=10, gamma=0.1, kernel=linear;, score=0.984 total time=   1.7s\n",
      "[CV 4/5] END ....C=10, gamma=0.1, kernel=linear;, score=0.983 total time=   1.6s\n",
      "[CV 5/5] END ....C=10, gamma=0.1, kernel=linear;, score=0.984 total time=   1.6s\n",
      "[CV 1/5] END ...C=10, gamma=0.01, kernel=linear;, score=0.981 total time=   1.6s\n",
      "[CV 2/5] END ...C=10, gamma=0.01, kernel=linear;, score=0.983 total time=   1.6s\n",
      "[CV 3/5] END ...C=10, gamma=0.01, kernel=linear;, score=0.984 total time=   1.7s\n",
      "[CV 4/5] END ...C=10, gamma=0.01, kernel=linear;, score=0.983 total time=   1.6s\n",
      "[CV 5/5] END ...C=10, gamma=0.01, kernel=linear;, score=0.984 total time=   1.6s\n",
      "[CV 1/5] END ..C=10, gamma=0.001, kernel=linear;, score=0.981 total time=   1.6s\n",
      "[CV 2/5] END ..C=10, gamma=0.001, kernel=linear;, score=0.983 total time=   1.6s\n",
      "[CV 3/5] END ..C=10, gamma=0.001, kernel=linear;, score=0.984 total time=   1.6s\n",
      "[CV 4/5] END ..C=10, gamma=0.001, kernel=linear;, score=0.983 total time=   1.5s\n",
      "[CV 5/5] END ..C=10, gamma=0.001, kernel=linear;, score=0.984 total time=   1.6s\n",
      "[CV 1/5] END .C=10, gamma=0.0001, kernel=linear;, score=0.981 total time=   1.5s\n",
      "[CV 2/5] END .C=10, gamma=0.0001, kernel=linear;, score=0.983 total time=   1.6s\n",
      "[CV 3/5] END .C=10, gamma=0.0001, kernel=linear;, score=0.984 total time=   1.6s\n",
      "[CV 4/5] END .C=10, gamma=0.0001, kernel=linear;, score=0.983 total time=   1.6s\n",
      "[CV 5/5] END .C=10, gamma=0.0001, kernel=linear;, score=0.984 total time=   1.6s\n",
      "[CV 1/5] END .....C=100, gamma=1, kernel=linear;, score=0.981 total time=   1.4s\n",
      "[CV 2/5] END .....C=100, gamma=1, kernel=linear;, score=0.984 total time=   1.5s\n",
      "[CV 3/5] END .....C=100, gamma=1, kernel=linear;, score=0.983 total time=   1.4s\n",
      "[CV 4/5] END .....C=100, gamma=1, kernel=linear;, score=0.983 total time=   1.3s\n",
      "[CV 5/5] END .....C=100, gamma=1, kernel=linear;, score=0.983 total time=   1.4s\n",
      "[CV 1/5] END ...C=100, gamma=0.1, kernel=linear;, score=0.981 total time=   1.4s\n",
      "[CV 2/5] END ...C=100, gamma=0.1, kernel=linear;, score=0.984 total time=   1.4s\n",
      "[CV 3/5] END ...C=100, gamma=0.1, kernel=linear;, score=0.983 total time=   1.3s\n",
      "[CV 4/5] END ...C=100, gamma=0.1, kernel=linear;, score=0.983 total time=   1.3s\n",
      "[CV 5/5] END ...C=100, gamma=0.1, kernel=linear;, score=0.983 total time=   1.4s\n",
      "[CV 1/5] END ..C=100, gamma=0.01, kernel=linear;, score=0.981 total time=   1.4s\n",
      "[CV 2/5] END ..C=100, gamma=0.01, kernel=linear;, score=0.984 total time=   1.4s\n",
      "[CV 3/5] END ..C=100, gamma=0.01, kernel=linear;, score=0.983 total time=   1.3s\n",
      "[CV 4/5] END ..C=100, gamma=0.01, kernel=linear;, score=0.983 total time=   1.2s\n",
      "[CV 5/5] END ..C=100, gamma=0.01, kernel=linear;, score=0.983 total time=   1.2s\n",
      "[CV 1/5] END .C=100, gamma=0.001, kernel=linear;, score=0.981 total time=   1.2s\n",
      "[CV 2/5] END .C=100, gamma=0.001, kernel=linear;, score=0.984 total time=   1.3s\n",
      "[CV 3/5] END .C=100, gamma=0.001, kernel=linear;, score=0.983 total time=   1.4s\n",
      "[CV 4/5] END .C=100, gamma=0.001, kernel=linear;, score=0.983 total time=   1.3s\n",
      "[CV 5/5] END .C=100, gamma=0.001, kernel=linear;, score=0.983 total time=   1.3s\n",
      "[CV 1/5] END C=100, gamma=0.0001, kernel=linear;, score=0.981 total time=   1.2s\n",
      "[CV 2/5] END C=100, gamma=0.0001, kernel=linear;, score=0.984 total time=   1.3s\n",
      "[CV 3/5] END C=100, gamma=0.0001, kernel=linear;, score=0.983 total time=   1.3s\n",
      "[CV 4/5] END C=100, gamma=0.0001, kernel=linear;, score=0.983 total time=   1.2s\n",
      "[CV 5/5] END C=100, gamma=0.0001, kernel=linear;, score=0.983 total time=   1.2s\n",
      "[CV 1/5] END ....C=1000, gamma=1, kernel=linear;, score=0.981 total time=   1.6s\n",
      "[CV 2/5] END ....C=1000, gamma=1, kernel=linear;, score=0.985 total time=   1.8s\n",
      "[CV 3/5] END ....C=1000, gamma=1, kernel=linear;, score=0.984 total time=   1.6s\n",
      "[CV 4/5] END ....C=1000, gamma=1, kernel=linear;, score=0.983 total time=   1.5s\n",
      "[CV 5/5] END ....C=1000, gamma=1, kernel=linear;, score=0.983 total time=   1.9s\n",
      "[CV 1/5] END ..C=1000, gamma=0.1, kernel=linear;, score=0.981 total time=   1.6s\n",
      "[CV 2/5] END ..C=1000, gamma=0.1, kernel=linear;, score=0.985 total time=   1.6s\n",
      "[CV 3/5] END ..C=1000, gamma=0.1, kernel=linear;, score=0.984 total time=   1.4s\n",
      "[CV 4/5] END ..C=1000, gamma=0.1, kernel=linear;, score=0.983 total time=   1.4s\n",
      "[CV 5/5] END ..C=1000, gamma=0.1, kernel=linear;, score=0.983 total time=   1.6s\n",
      "[CV 1/5] END .C=1000, gamma=0.01, kernel=linear;, score=0.981 total time=   1.5s\n",
      "[CV 2/5] END .C=1000, gamma=0.01, kernel=linear;, score=0.985 total time=   1.7s\n",
      "[CV 3/5] END .C=1000, gamma=0.01, kernel=linear;, score=0.984 total time=   1.7s\n",
      "[CV 4/5] END .C=1000, gamma=0.01, kernel=linear;, score=0.983 total time=   1.7s\n",
      "[CV 5/5] END .C=1000, gamma=0.01, kernel=linear;, score=0.983 total time=   2.1s\n",
      "[CV 1/5] END C=1000, gamma=0.001, kernel=linear;, score=0.981 total time=   2.1s\n",
      "[CV 2/5] END C=1000, gamma=0.001, kernel=linear;, score=0.985 total time=   1.7s\n",
      "[CV 3/5] END C=1000, gamma=0.001, kernel=linear;, score=0.984 total time=   1.6s\n",
      "[CV 4/5] END C=1000, gamma=0.001, kernel=linear;, score=0.983 total time=   1.5s\n",
      "[CV 5/5] END C=1000, gamma=0.001, kernel=linear;, score=0.983 total time=   1.7s\n",
      "[CV 1/5] END C=1000, gamma=0.0001, kernel=linear;, score=0.981 total time=   1.6s\n",
      "[CV 2/5] END C=1000, gamma=0.0001, kernel=linear;, score=0.985 total time=   1.7s\n",
      "[CV 3/5] END C=1000, gamma=0.0001, kernel=linear;, score=0.984 total time=   1.5s\n",
      "[CV 4/5] END C=1000, gamma=0.0001, kernel=linear;, score=0.983 total time=   1.5s\n",
      "[CV 5/5] END C=1000, gamma=0.0001, kernel=linear;, score=0.983 total time=   1.6s\n"
     ]
    },
    {
     "data": {
      "text/html": [
       "<style>#sk-container-id-1 {color: black;}#sk-container-id-1 pre{padding: 0;}#sk-container-id-1 div.sk-toggleable {background-color: white;}#sk-container-id-1 label.sk-toggleable__label {cursor: pointer;display: block;width: 100%;margin-bottom: 0;padding: 0.3em;box-sizing: border-box;text-align: center;}#sk-container-id-1 label.sk-toggleable__label-arrow:before {content: \"▸\";float: left;margin-right: 0.25em;color: #696969;}#sk-container-id-1 label.sk-toggleable__label-arrow:hover:before {color: black;}#sk-container-id-1 div.sk-estimator:hover label.sk-toggleable__label-arrow:before {color: black;}#sk-container-id-1 div.sk-toggleable__content {max-height: 0;max-width: 0;overflow: hidden;text-align: left;background-color: #f0f8ff;}#sk-container-id-1 div.sk-toggleable__content pre {margin: 0.2em;color: black;border-radius: 0.25em;background-color: #f0f8ff;}#sk-container-id-1 input.sk-toggleable__control:checked~div.sk-toggleable__content {max-height: 200px;max-width: 100%;overflow: auto;}#sk-container-id-1 input.sk-toggleable__control:checked~label.sk-toggleable__label-arrow:before {content: \"▾\";}#sk-container-id-1 div.sk-estimator input.sk-toggleable__control:checked~label.sk-toggleable__label {background-color: #d4ebff;}#sk-container-id-1 div.sk-label input.sk-toggleable__control:checked~label.sk-toggleable__label {background-color: #d4ebff;}#sk-container-id-1 input.sk-hidden--visually {border: 0;clip: rect(1px 1px 1px 1px);clip: rect(1px, 1px, 1px, 1px);height: 1px;margin: -1px;overflow: hidden;padding: 0;position: absolute;width: 1px;}#sk-container-id-1 div.sk-estimator {font-family: monospace;background-color: #f0f8ff;border: 1px dotted black;border-radius: 0.25em;box-sizing: border-box;margin-bottom: 0.5em;}#sk-container-id-1 div.sk-estimator:hover {background-color: #d4ebff;}#sk-container-id-1 div.sk-parallel-item::after {content: \"\";width: 100%;border-bottom: 1px solid gray;flex-grow: 1;}#sk-container-id-1 div.sk-label:hover label.sk-toggleable__label {background-color: #d4ebff;}#sk-container-id-1 div.sk-serial::before {content: \"\";position: absolute;border-left: 1px solid gray;box-sizing: border-box;top: 0;bottom: 0;left: 50%;z-index: 0;}#sk-container-id-1 div.sk-serial {display: flex;flex-direction: column;align-items: center;background-color: white;padding-right: 0.2em;padding-left: 0.2em;position: relative;}#sk-container-id-1 div.sk-item {position: relative;z-index: 1;}#sk-container-id-1 div.sk-parallel {display: flex;align-items: stretch;justify-content: center;background-color: white;position: relative;}#sk-container-id-1 div.sk-item::before, #sk-container-id-1 div.sk-parallel-item::before {content: \"\";position: absolute;border-left: 1px solid gray;box-sizing: border-box;top: 0;bottom: 0;left: 50%;z-index: -1;}#sk-container-id-1 div.sk-parallel-item {display: flex;flex-direction: column;z-index: 1;position: relative;background-color: white;}#sk-container-id-1 div.sk-parallel-item:first-child::after {align-self: flex-end;width: 50%;}#sk-container-id-1 div.sk-parallel-item:last-child::after {align-self: flex-start;width: 50%;}#sk-container-id-1 div.sk-parallel-item:only-child::after {width: 0;}#sk-container-id-1 div.sk-dashed-wrapped {border: 1px dashed gray;margin: 0 0.4em 0.5em 0.4em;box-sizing: border-box;padding-bottom: 0.4em;background-color: white;}#sk-container-id-1 div.sk-label label {font-family: monospace;font-weight: bold;display: inline-block;line-height: 1.2em;}#sk-container-id-1 div.sk-label-container {text-align: center;}#sk-container-id-1 div.sk-container {/* jupyter's `normalize.less` sets `[hidden] { display: none; }` but bootstrap.min.css set `[hidden] { display: none !important; }` so we also need the `!important` here to be able to override the default hidden behavior on the sphinx rendered scikit-learn.org. See: https://github.com/scikit-learn/scikit-learn/issues/21755 */display: inline-block !important;position: relative;}#sk-container-id-1 div.sk-text-repr-fallback {display: none;}</style><div id=\"sk-container-id-1\" class=\"sk-top-container\"><div class=\"sk-text-repr-fallback\"><pre>GridSearchCV(estimator=SVC(),\n",
       "             param_grid={&#x27;C&#x27;: [0.1, 1, 10, 100, 1000],\n",
       "                         &#x27;gamma&#x27;: [1, 0.1, 0.01, 0.001, 0.0001],\n",
       "                         &#x27;kernel&#x27;: [&#x27;linear&#x27;]},\n",
       "             verbose=3)</pre><b>In a Jupyter environment, please rerun this cell to show the HTML representation or trust the notebook. <br />On GitHub, the HTML representation is unable to render, please try loading this page with nbviewer.org.</b></div><div class=\"sk-container\" hidden><div class=\"sk-item sk-dashed-wrapped\"><div class=\"sk-label-container\"><div class=\"sk-label sk-toggleable\"><input class=\"sk-toggleable__control sk-hidden--visually\" id=\"sk-estimator-id-1\" type=\"checkbox\" ><label for=\"sk-estimator-id-1\" class=\"sk-toggleable__label sk-toggleable__label-arrow\">GridSearchCV</label><div class=\"sk-toggleable__content\"><pre>GridSearchCV(estimator=SVC(),\n",
       "             param_grid={&#x27;C&#x27;: [0.1, 1, 10, 100, 1000],\n",
       "                         &#x27;gamma&#x27;: [1, 0.1, 0.01, 0.001, 0.0001],\n",
       "                         &#x27;kernel&#x27;: [&#x27;linear&#x27;]},\n",
       "             verbose=3)</pre></div></div></div><div class=\"sk-parallel\"><div class=\"sk-parallel-item\"><div class=\"sk-item\"><div class=\"sk-label-container\"><div class=\"sk-label sk-toggleable\"><input class=\"sk-toggleable__control sk-hidden--visually\" id=\"sk-estimator-id-2\" type=\"checkbox\" ><label for=\"sk-estimator-id-2\" class=\"sk-toggleable__label sk-toggleable__label-arrow\">estimator: SVC</label><div class=\"sk-toggleable__content\"><pre>SVC()</pre></div></div></div><div class=\"sk-serial\"><div class=\"sk-item\"><div class=\"sk-estimator sk-toggleable\"><input class=\"sk-toggleable__control sk-hidden--visually\" id=\"sk-estimator-id-3\" type=\"checkbox\" ><label for=\"sk-estimator-id-3\" class=\"sk-toggleable__label sk-toggleable__label-arrow\">SVC</label><div class=\"sk-toggleable__content\"><pre>SVC()</pre></div></div></div></div></div></div></div></div></div></div>"
      ],
      "text/plain": [
       "GridSearchCV(estimator=SVC(),\n",
       "             param_grid={'C': [0.1, 1, 10, 100, 1000],\n",
       "                         'gamma': [1, 0.1, 0.01, 0.001, 0.0001],\n",
       "                         'kernel': ['linear']},\n",
       "             verbose=3)"
      ]
     },
     "execution_count": 3,
     "metadata": {},
     "output_type": "execute_result"
    }
   ],
   "source": [
    "from sklearn.model_selection import GridSearchCV\n",
    "\n",
    "# defining parameter range\n",
    "param_grid = {'C': [0.1, 1, 10, 100, 1000],\n",
    "\t\t\t'gamma': [1, 0.1, 0.01, 0.001, 0.0001],\n",
    "\t\t\t'kernel': ['linear']}\n",
    "\n",
    "grid = GridSearchCV(SVC(), param_grid, refit = True, verbose = 3)\n",
    "\n",
    "# fitting the model for grid search\n",
    "grid.fit(Cr_train, ES_train)\n"
   ]
  },
  {
   "cell_type": "code",
   "execution_count": 4,
   "metadata": {},
   "outputs": [
    {
     "name": "stdout",
     "output_type": "stream",
     "text": [
      "{'C': 100, 'gamma': 1, 'kernel': 'linear'}\n",
      "SVC(C=100, gamma=1, kernel='linear')\n"
     ]
    }
   ],
   "source": [
    "# print best parameter after tuning\n",
    "print(grid.best_params_)\n",
    "\n",
    "# print how our model looks after hyper-parameter tuning\n",
    "print(grid.best_estimator_)\n"
   ]
  },
  {
   "cell_type": "code",
   "execution_count": 14,
   "metadata": {},
   "outputs": [
    {
     "name": "stdout",
     "output_type": "stream",
     "text": [
      "(250000, 5)\n",
      "0.195132062642601\n",
      "Number of entangled states: 127330\n",
      "\n",
      "Number of separable states: 122670\n",
      "\n"
     ]
    }
   ],
   "source": [
    "# datafiles = ['../project/dataset1.csv', '../project/dataset2.csv', '../project/dataset3.csv', '../project/dataset4.csv', '../project/dataset5.csv']\n",
    "datafiles = ['../project/dataset1.csv', '../project/dataset2.csv', '../project/dataset3.csv', '../project/dataset4.csv', '../project/dataset5.csv']\n",
    "n_samples = 50000           # Number of samples\n",
    "n_dataset = len(datafiles)  # Number of datasets\n",
    "train = 0.9   # 245000 (77.777...%)\n",
    "test = 0.1    # 35000 (10%)\n",
    "\n",
    "# Split all datasets\n",
    "datasets = np.empty((int(n_samples*n_dataset),5))\n",
    "print(datasets.shape)\n",
    "for i,datafile in enumerate(datafiles):\n",
    "  dataset = np.loadtxt(datafile, delimiter=',')\n",
    "  datasets[int(i*n_samples):int(n_samples*(i+1)),:] = dataset\n",
    "print(datasets[0,0])\n",
    "# Split into input and output\n",
    "Cr = datasets[:,0:4]   # Input: relative entropy of coherence\n",
    "ES = np.array([float(y) for y in datasets[:,4]])  # Output: entangled/separable\n",
    "\n",
    "# Count number of entangled and separable states\n",
    "n_entangled = len([es for es in ES if es == 1])\n",
    "print(f'Number of entangled states: {n_entangled}\\n')\n",
    "print(f'Number of separable states: {n_samples*n_dataset-n_entangled}\\n')\n",
    "# Split into train-and-validation and test\n",
    "#break datasets into train and test\n",
    "\n",
    "Cr_train, Cr_test, ES_train, ES_test = train_test_split(Cr, ES, test_size=test,\n",
    "                                                      random_state=42, shuffle=True)"
   ]
  },
  {
   "cell_type": "code",
   "execution_count": 10,
   "metadata": {},
   "outputs": [
    {
     "data": {
      "text/html": [
       "<style>#sk-container-id-2 {color: black;}#sk-container-id-2 pre{padding: 0;}#sk-container-id-2 div.sk-toggleable {background-color: white;}#sk-container-id-2 label.sk-toggleable__label {cursor: pointer;display: block;width: 100%;margin-bottom: 0;padding: 0.3em;box-sizing: border-box;text-align: center;}#sk-container-id-2 label.sk-toggleable__label-arrow:before {content: \"▸\";float: left;margin-right: 0.25em;color: #696969;}#sk-container-id-2 label.sk-toggleable__label-arrow:hover:before {color: black;}#sk-container-id-2 div.sk-estimator:hover label.sk-toggleable__label-arrow:before {color: black;}#sk-container-id-2 div.sk-toggleable__content {max-height: 0;max-width: 0;overflow: hidden;text-align: left;background-color: #f0f8ff;}#sk-container-id-2 div.sk-toggleable__content pre {margin: 0.2em;color: black;border-radius: 0.25em;background-color: #f0f8ff;}#sk-container-id-2 input.sk-toggleable__control:checked~div.sk-toggleable__content {max-height: 200px;max-width: 100%;overflow: auto;}#sk-container-id-2 input.sk-toggleable__control:checked~label.sk-toggleable__label-arrow:before {content: \"▾\";}#sk-container-id-2 div.sk-estimator input.sk-toggleable__control:checked~label.sk-toggleable__label {background-color: #d4ebff;}#sk-container-id-2 div.sk-label input.sk-toggleable__control:checked~label.sk-toggleable__label {background-color: #d4ebff;}#sk-container-id-2 input.sk-hidden--visually {border: 0;clip: rect(1px 1px 1px 1px);clip: rect(1px, 1px, 1px, 1px);height: 1px;margin: -1px;overflow: hidden;padding: 0;position: absolute;width: 1px;}#sk-container-id-2 div.sk-estimator {font-family: monospace;background-color: #f0f8ff;border: 1px dotted black;border-radius: 0.25em;box-sizing: border-box;margin-bottom: 0.5em;}#sk-container-id-2 div.sk-estimator:hover {background-color: #d4ebff;}#sk-container-id-2 div.sk-parallel-item::after {content: \"\";width: 100%;border-bottom: 1px solid gray;flex-grow: 1;}#sk-container-id-2 div.sk-label:hover label.sk-toggleable__label {background-color: #d4ebff;}#sk-container-id-2 div.sk-serial::before {content: \"\";position: absolute;border-left: 1px solid gray;box-sizing: border-box;top: 0;bottom: 0;left: 50%;z-index: 0;}#sk-container-id-2 div.sk-serial {display: flex;flex-direction: column;align-items: center;background-color: white;padding-right: 0.2em;padding-left: 0.2em;position: relative;}#sk-container-id-2 div.sk-item {position: relative;z-index: 1;}#sk-container-id-2 div.sk-parallel {display: flex;align-items: stretch;justify-content: center;background-color: white;position: relative;}#sk-container-id-2 div.sk-item::before, #sk-container-id-2 div.sk-parallel-item::before {content: \"\";position: absolute;border-left: 1px solid gray;box-sizing: border-box;top: 0;bottom: 0;left: 50%;z-index: -1;}#sk-container-id-2 div.sk-parallel-item {display: flex;flex-direction: column;z-index: 1;position: relative;background-color: white;}#sk-container-id-2 div.sk-parallel-item:first-child::after {align-self: flex-end;width: 50%;}#sk-container-id-2 div.sk-parallel-item:last-child::after {align-self: flex-start;width: 50%;}#sk-container-id-2 div.sk-parallel-item:only-child::after {width: 0;}#sk-container-id-2 div.sk-dashed-wrapped {border: 1px dashed gray;margin: 0 0.4em 0.5em 0.4em;box-sizing: border-box;padding-bottom: 0.4em;background-color: white;}#sk-container-id-2 div.sk-label label {font-family: monospace;font-weight: bold;display: inline-block;line-height: 1.2em;}#sk-container-id-2 div.sk-label-container {text-align: center;}#sk-container-id-2 div.sk-container {/* jupyter's `normalize.less` sets `[hidden] { display: none; }` but bootstrap.min.css set `[hidden] { display: none !important; }` so we also need the `!important` here to be able to override the default hidden behavior on the sphinx rendered scikit-learn.org. See: https://github.com/scikit-learn/scikit-learn/issues/21755 */display: inline-block !important;position: relative;}#sk-container-id-2 div.sk-text-repr-fallback {display: none;}</style><div id=\"sk-container-id-2\" class=\"sk-top-container\"><div class=\"sk-text-repr-fallback\"><pre>SVC(C=100, gamma=1, kernel=&#x27;linear&#x27;)</pre><b>In a Jupyter environment, please rerun this cell to show the HTML representation or trust the notebook. <br />On GitHub, the HTML representation is unable to render, please try loading this page with nbviewer.org.</b></div><div class=\"sk-container\" hidden><div class=\"sk-item\"><div class=\"sk-estimator sk-toggleable\"><input class=\"sk-toggleable__control sk-hidden--visually\" id=\"sk-estimator-id-2\" type=\"checkbox\" checked><label for=\"sk-estimator-id-2\" class=\"sk-toggleable__label sk-toggleable__label-arrow\">SVC</label><div class=\"sk-toggleable__content\"><pre>SVC(C=100, gamma=1, kernel=&#x27;linear&#x27;)</pre></div></div></div></div></div>"
      ],
      "text/plain": [
       "SVC(C=100, gamma=1, kernel='linear')"
      ]
     },
     "execution_count": 10,
     "metadata": {},
     "output_type": "execute_result"
    }
   ],
   "source": [
    "model = SVC(C=100, gamma=1, kernel='linear')\n",
    "model.fit(Cr_train, ES_train)"
   ]
  },
  {
   "cell_type": "code",
   "execution_count": 11,
   "metadata": {},
   "outputs": [
    {
     "name": "stdout",
     "output_type": "stream",
     "text": [
      "Accuracy: 0.9892666666666666\n",
      "\n"
     ]
    }
   ],
   "source": [
    "# Evaluate the model\n",
    "accuracy = model.score(Cr_test, ES_test)\n",
    "print(f'Accuracy: {accuracy}\\n')"
   ]
  },
  {
   "cell_type": "code",
   "execution_count": 12,
   "metadata": {},
   "outputs": [
    {
     "name": "stdout",
     "output_type": "stream",
     "text": [
      "[ 76.66673997 -62.35154383  73.01357178  37.16411006]\n",
      "[-16.33855603]\n"
     ]
    }
   ],
   "source": [
    "W = model.coef_[0]\n",
    "I = model.intercept_\n",
    "print(W)\n",
    "print(I)"
   ]
  },
  {
   "cell_type": "code",
   "execution_count": 13,
   "metadata": {},
   "outputs": [
    {
     "name": "stdout",
     "output_type": "stream",
     "text": [
      "w =  [[ 76.66673997 -62.35154383  73.01357178  37.16411006]]\n",
      "b =  [-16.33855603]\n",
      "Indices of support vectors =  [   127    190    212 ... 134733 134783 134959]\n",
      "Support vectors =  [[1.37574850e-01 1.09112013e-01 1.37574850e-01 7.28455051e-02]\n",
      " [4.77219385e-01 8.94479733e-01 4.77219385e-01 8.05329893e-04]\n",
      " [4.14841205e-01 7.51627556e-01 4.14841205e-01 8.04158526e-03]\n",
      " ...\n",
      " [2.27780606e-01 3.00931044e-01 2.27780606e-01 5.39460376e-02]\n",
      " [2.58562844e-01 3.79431568e-01 2.58562844e-01 5.61643659e-02]\n",
      " [3.01283260e-01 4.73584843e-01 3.01283260e-01 4.08960779e-02]]\n",
      "Number of support vectors for each class =  [1827 1827]\n",
      "Coefficients of the support vector in the decision function =  [[100. 100. 100. ... 100. 100. 100.]]\n"
     ]
    }
   ],
   "source": [
    "print('w = ',model.coef_)\n",
    "print('b = ',model.intercept_)\n",
    "print('Indices of support vectors = ', model.support_)\n",
    "print('Support vectors = ', model.support_vectors_)\n",
    "print('Number of support vectors for each class = ', model.n_support_)\n",
    "print('Coefficients of the support vector in the decision function = ', np.abs(model.dual_coef_))\n"
   ]
  }
 ],
 "metadata": {
  "kernelspec": {
   "display_name": "Python 3",
   "language": "python",
   "name": "python3"
  },
  "language_info": {
   "codemirror_mode": {
    "name": "ipython",
    "version": 3
   },
   "file_extension": ".py",
   "mimetype": "text/x-python",
   "name": "python",
   "nbconvert_exporter": "python",
   "pygments_lexer": "ipython3",
   "version": "3.11.2"
  }
 },
 "nbformat": 4,
 "nbformat_minor": 2
}
